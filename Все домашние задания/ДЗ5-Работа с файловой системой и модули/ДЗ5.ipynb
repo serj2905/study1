{
 "cells": [
  {
   "cell_type": "markdown",
   "id": "6f319cc8",
   "metadata": {},
   "source": [
    "##  ДЗ 5"
   ]
  },
  {
   "cell_type": "markdown",
   "id": "d35db292",
   "metadata": {},
   "source": [
    "# Домашнее задание\n",
    "1. Переведите содержимое файла purchase_log.txt в словарь purchases вида:\n",
    "```python\n",
    "{'1840e0b9d4': 'Продукты', ...}\n",
    "```\n",
    "\n",
    "2. Для каждого user_id в файле visit_log.csv определите третий столбец с категорией покупки (если покупка была, сам файл visit_log.csv изменять не надо). Запишите в файл funnel.csv визиты из файла visit_log.csv, в которых были покупки с указанием категории.\n",
    "\n",
    "Учтите условия на данные:\n",
    "- содержимое purchase_log.txt помещается в оперативную память компьютера\n",
    "- содержимое visit_log.csv - нет; используйте только построчную обработку этого файла"
   ]
  },
  {
   "cell_type": "code",
   "execution_count": 4,
   "id": "3f5e2d3e",
   "metadata": {},
   "outputs": [
    {
     "name": "stdout",
     "output_type": "stream",
     "text": [
      "{'1840e0b9d4': 'Продукты'}\n",
      "{'4e4f90fcfb': 'Электроника'}\n",
      "{'afea8d72fc': 'Электроника'}\n",
      "{'373a6055fe': 'Бытовая техника'}\n",
      "{'9b2ab046f3': 'Электроника'}\n",
      "{'9f39d307c3': 'Электроника'}\n",
      "{'44edeffc91': 'Продукты'}\n",
      "{'704474fa2d': 'Продукты'}\n",
      "{'1de31be403': 'Бытовая техника'}\n"
     ]
    }
   ],
   "source": [
    "import json\n",
    "x = 0\n",
    "with open('purchase_log.txt','r', encoding = 'utf-8') as f:\n",
    "    s = list(f)\n",
    "    for x in s[1:10]:\n",
    "        x = x.strip()\n",
    "        x = json.loads(x)\n",
    "        key = x['user_id']\n",
    "        value = x['category']\n",
    "        baza = {key: value}\n",
    "        print(baza)\n",
    "\n",
    "\n",
    "        \n",
    "        \n",
    "        \n",
    "        \n",
    "        \n"
   ]
  },
  {
   "cell_type": "code",
   "execution_count": 8,
   "id": "35ee1982",
   "metadata": {},
   "outputs": [
    {
     "name": "stdout",
     "output_type": "stream",
     "text": [
      "{\"user_id\": \"user_id\", \"category\": \"category\"}\n",
      "\n"
     ]
    }
   ],
   "source": [
    "import json\n",
    "with open('purchase_log.txt','r', encoding = 'utf-8') as f:\n",
    "    print(f.readline())\n",
    "    \n",
    "    "
   ]
  },
  {
   "cell_type": "code",
   "execution_count": null,
   "id": "de027100",
   "metadata": {},
   "outputs": [],
   "source": []
  }
 ],
 "metadata": {
  "kernelspec": {
   "display_name": "Python 3 (ipykernel)",
   "language": "python",
   "name": "python3"
  },
  "language_info": {
   "codemirror_mode": {
    "name": "ipython",
    "version": 3
   },
   "file_extension": ".py",
   "mimetype": "text/x-python",
   "name": "python",
   "nbconvert_exporter": "python",
   "pygments_lexer": "ipython3",
   "version": "3.9.13"
  }
 },
 "nbformat": 4,
 "nbformat_minor": 5
}
