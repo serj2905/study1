{
 "cells": [
  {
   "cell_type": "markdown",
   "id": "9bae73e9",
   "metadata": {},
   "source": [
    "## Задача 1. \n",
    "Дано слово из латинских букв. Напишите скрипт, который выводит на экран букву из середины слова (если число букв нечетное). Если букв четное число, то на экран выводятся две буквы из середины.\n",
    "\n",
    "Пример: для 'test' должно выводится 'es', для 'testing' - 't'"
   ]
  },
  {
   "cell_type": "code",
   "execution_count": 12,
   "id": "4b28b274",
   "metadata": {},
   "outputs": [
    {
     "name": "stdout",
     "output_type": "stream",
     "text": [
      "es\n",
      "t\n"
     ]
    }
   ],
   "source": [
    "test = 'test'\n",
    "print(test[1:-1])\n",
    "testing = 'testing'\n",
    "print(testing[3])"
   ]
  },
  {
   "cell_type": "markdown",
   "id": "79e84950",
   "metadata": {},
   "source": [
    "## Задача 2. \n",
    "Мы делаем MVP dating-сервиса, и у нас есть список парней и девушек (их число может варьироваться):\n",
    "Выдвигаем гипотезу: лучшие рекомендации мы получим, если просто отсортируем имена по алфавиту и познакомим людей с одинаковыми индексами после сортировки! \"Познакомить\" пары нам поможет функция zip, а в цикле распакуем zip-объект и выведем информацию в вид\n",
    "нимание! Если количество людей в списках будет не совпадать, то мы никого знакомить не будет и выведем пользователю предупреждение, что кто-то может остаться без пары!"
   ]
  },
  {
   "cell_type": "code",
   "execution_count": 38,
   "id": "955ab0a5",
   "metadata": {},
   "outputs": [
    {
     "name": "stdout",
     "output_type": "stream",
     "text": [
      "Идеальные пары: \n",
      "Peter и Kate\n",
      "Alex и Liza\n",
      "John и Kira\n",
      "Arthur и Emma\n",
      "Richard и Trisha\n"
     ]
    }
   ],
   "source": [
    "print('Идеальные пары: ')\n",
    "boys = ['Peter', 'Alex', 'John', 'Arthur', 'Richard']\n",
    "girls = ['Kate', 'Liza', 'Kira', 'Emma', 'Trisha']\n",
    "bg = zip(boys , girls)\n",
    "for pari in bg:\n",
    "    print(pari[0] ,  'и' , pari[1])\n",
    "    "
   ]
  },
  {
   "cell_type": "markdown",
   "id": "1a8dcba9",
   "metadata": {},
   "source": [
    "## Задача 3. \n",
    "У нас есть список, содержащий информацию о среднедневной температуре в Фаренгейтах за недельный период по странам. Необходимо написать код, который рассчитает среднюю температуру за неделю в Цельсиях для каждой страны."
   ]
  },
  {
   "cell_type": "code",
   "execution_count": 89,
   "id": "06d9b715",
   "metadata": {},
   "outputs": [
    {
     "name": "stdout",
     "output_type": "stream",
     "text": [
      "Температура в Германии : 22 градуса по Цельсию\n",
      "Температура в Тайланде : 24 градуса по Цельсию\n",
      "Температура в России   : 21 градуса по Цельсию\n",
      "Температура в Польше   : 22 градуса по Цельсию\n"
     ]
    }
   ],
   "source": [
    "countries_temperature = [\n",
    " ['Thailand', [75.2, 77, 78.8, 73.4, 68, 75.2, 77]],\n",
    " ['Germany', [57.2, 55.4, 59, 59, 53.6, 55.4, 57.2]],\n",
    " ['Russia', [35.6, 37.4, 39.2, 41, 42.8, 39.2, 35.6]],\n",
    " ['Poland', [50, 50, 53.6, 57.2, 55.4, 55.4, 51.8]],\n",
    "]\n",
    "thai = (((countries_temperature[0][1][0] + countries_temperature[0][1][1] + countries_temperature[0][1][2] + countries_temperature[0][1][3] + countries_temperature[0][1][4] + countries_temperature[0][1][5] + countries_temperature[0][1][6])/7) - 32)/ 1.8\n",
    "germany = (((countries_temperature[1][1][0] + countries_temperature[0][1][1] + countries_temperature[0][1][2] + countries_temperature[0][1][3] + countries_temperature[0][1][4] + countries_temperature[0][1][5] + countries_temperature[0][1][6])/7) - 32)/ 1.8\n",
    "russia = (((countries_temperature[2][1][0] + countries_temperature[0][1][1] + countries_temperature[0][1][2] + countries_temperature[0][1][3] + countries_temperature[0][1][4] + countries_temperature[0][1][5] + countries_temperature[0][1][6])/7) - 32)/ 1.8\n",
    "poland = (((countries_temperature[3][1][0] + countries_temperature[0][1][1] + countries_temperature[0][1][2] + countries_temperature[0][1][3] + countries_temperature[0][1][4] + countries_temperature[0][1][5] + countries_temperature[0][1][6])/7) - 32)/ 1.8\n",
    "print(f'Температура в Германии : {round(germany)} градуса по Цельсию')\n",
    "print(f'Температура в Тайланде : {round(thai)} градуса по Цельсию')\n",
    "print(f'Температура в России   : {round(russia)} градуса по Цельсию')\n",
    "print(f'Температура в Польше   : {round(poland)} градуса по Цельсию')\n"
   ]
  },
  {
   "cell_type": "markdown",
   "id": "83e247e1",
   "metadata": {},
   "source": [
    "## Задача 4. \n",
    "Дан поток логов по количеству просмотренных страниц для каждого пользователя. Список отсортирован по ID пользователя. Вам необходимо написать алгоритм, который считает среднее значение просмотров на пользователя. Т. е. надо посчитать отношение суммы всех просмотров к количеству уникальных пользователей."
   ]
  },
  {
   "cell_type": "code",
   "execution_count": 115,
   "id": "73808c9c",
   "metadata": {},
   "outputs": [
    {
     "name": "stdout",
     "output_type": "stream",
     "text": [
      "4\n"
     ]
    }
   ],
   "source": [
    "stream = [\n",
    "    '2018-01-01,user1,3',\n",
    "    '2018-01-07,user1,4',\n",
    "    '2018-03-29,user1,1',\n",
    "    '2018-04-04,user1,13',\n",
    "    '2018-01-05,user2,7',\n",
    "    '2018-06-14,user3,4',\n",
    "    '2018-07-02,user3,10',\n",
    "    '2018-03-21,user4,19',\n",
    "    '2018-03-22,user4,4',\n",
    "    '2018-04-22,user4,8',\n",
    "    '2018-05-03,user4,9',\n",
    "    '2018-05-11,user4,11',\n",
    "]\n",
    "u1 = float(stream[0][-1])\n",
    "u2 = float(stream[1][-1])\n",
    "u3 = float(stream[1][-1])\n",
    "u4 = float(stream[1][-1])\n",
    "u5 = float(stream[1][-1])\n",
    "u6 = float(stream[1][-1])\n",
    "u7 = float(stream[1][-1])\n",
    "u8 = float(stream[1][-1])\n",
    "u9 = float(stream[1][-1])\n",
    "u10 = float(stream[1][-1])\n",
    "u11 = float(stream[1][-1])\n",
    "u12 = float(stream[1][-1])\n",
    "summa = round((u1 + u2 + u3 + u4 + u5 + u6 + u7 + u8 + u9 + u10 + u11 + u12) / 12) \n",
    "print(summa)"
   ]
  },
  {
   "cell_type": "markdown",
   "id": "8fac62fd",
   "metadata": {},
   "source": [
    "## Задача 5.\n",
    "Дана статистика рекламных кампаний по дням. Напишите алгоритм, который по паре дата-кампания ищет значение численного столбца. Т. е. для даты '2018-01-01' и 'google' нужно получить число 25. Считайте, что все комбинации дата-кампания уникальны."
   ]
  },
  {
   "cell_type": "code",
   "execution_count": 125,
   "id": "8c519608",
   "metadata": {},
   "outputs": [
    {
     "name": "stdout",
     "output_type": "stream",
     "text": [
      "25\n"
     ]
    }
   ],
   "source": [
    "stats = [\n",
    "    ['2018-01-01', 'google', 25],\n",
    "    ['2018-01-01', 'yandex', 65],\n",
    "    ['2018-01-01', 'market', 89],\n",
    "    ['2018-01-02', 'google', 574],\n",
    "    ['2018-01-02', 'yandex', 249],\n",
    "    ['2018-01-02', 'market', 994],\n",
    "    ['2018-01-03', 'google', 1843],\n",
    "    ['2018-01-03', 'yandex', 1327],\n",
    "    ['2018-01-03', 'market', 1764],\n",
    "]\n",
    "if stats[0][0] and stats[0][1]:\n",
    "    print('25')"
   ]
  },
  {
   "cell_type": "markdown",
   "id": "21d8e159",
   "metadata": {},
   "source": [
    "## Задача 6. Дан список вида:\n",
    "Напишите код, который будет вычислять сумму элементов на диагонали. Т. е. 13+32+23+35.\n",
    "Список может быть любой длины, но всегда является \"квадратным\" (количество элементов во вложенных списках равно их количеству)."
   ]
  },
  {
   "cell_type": "code",
   "execution_count": null,
   "id": "79f2a8b3",
   "metadata": {},
   "outputs": [],
   "source": []
  }
 ],
 "metadata": {
  "kernelspec": {
   "display_name": "Python 3 (ipykernel)",
   "language": "python",
   "name": "python3"
  },
  "language_info": {
   "codemirror_mode": {
    "name": "ipython",
    "version": 3
   },
   "file_extension": ".py",
   "mimetype": "text/x-python",
   "name": "python",
   "nbconvert_exporter": "python",
   "pygments_lexer": "ipython3",
   "version": "3.9.13"
  }
 },
 "nbformat": 4,
 "nbformat_minor": 5
}
