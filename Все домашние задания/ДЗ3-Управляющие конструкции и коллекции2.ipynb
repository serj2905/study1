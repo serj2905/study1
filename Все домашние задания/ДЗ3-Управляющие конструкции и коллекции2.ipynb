{
 "cells": [
  {
   "cell_type": "markdown",
   "id": "1b16c3f9",
   "metadata": {},
   "source": [
    "## Задание 1"
   ]
  },
  {
   "cell_type": "code",
   "execution_count": 12,
   "id": "4b28b274",
   "metadata": {},
   "outputs": [
    {
     "name": "stdout",
     "output_type": "stream",
     "text": [
      "es\n",
      "t\n"
     ]
    }
   ],
   "source": [
    "test = 'test'\n",
    "print(test[1:-1])\n",
    "testing = 'testing'\n",
    "print(testing[3])"
   ]
  },
  {
   "cell_type": "markdown",
   "id": "9f3b0e04",
   "metadata": {},
   "source": [
    "## Задание 2"
   ]
  },
  {
   "cell_type": "code",
   "execution_count": 38,
   "id": "b6c05c55",
   "metadata": {},
   "outputs": [
    {
     "name": "stdout",
     "output_type": "stream",
     "text": [
      "Идеальные пары: \n",
      "Peter и Kate\n",
      "Alex и Liza\n",
      "John и Kira\n",
      "Arthur и Emma\n",
      "Richard и Trisha\n"
     ]
    }
   ],
   "source": [
    "print('Идеальные пары: ')\n",
    "boys = ['Peter', 'Alex', 'John', 'Arthur', 'Richard']\n",
    "girls = ['Kate', 'Liza', 'Kira', 'Emma', 'Trisha']\n",
    "bg = zip(boys , girls)\n",
    "for pari in bg:\n",
    "    print(pari[0] ,  'и' , pari[1])\n",
    "    "
   ]
  },
  {
   "cell_type": "markdown",
   "id": "ac6b5b71",
   "metadata": {},
   "source": [
    "## Задание 3"
   ]
  },
  {
   "cell_type": "code",
   "execution_count": 77,
   "id": "d6dd7dd4",
   "metadata": {},
   "outputs": [
    {
     "name": "stdout",
     "output_type": "stream",
     "text": [
      "72\n"
     ]
    }
   ],
   "source": [
    "countries_temperature = [\n",
    " ['Thailand', [75.2, 77, 78.8, 73.4, 68, 75.2, 77]],\n",
    " ['Germany', [57.2, 55.4, 59, 59, 53.6, 55.4, 57.2]],\n",
    " ['Russia', [35.6, 37.4, 39.2, 41, 42.8, 39.2, 35.6]],\n",
    " ['Poland', [50, 50, 53.6, 57.2, 55.4, 55.4, 51.8]],\n",
    "]\n",
    "thai = (countries_temperature[0][1][0] + countries_temperature[0][1][1] + countries_temperature[0][1][2] + countries_temperature[0][1][3] + countries_temperature[0][1][4] + countries_temperature[0][1][5] + countries_temperature[0][1][6])/7\n",
    "germany = (countries_temperature[1][1][0] + countries_temperature[0][1][1] + countries_temperature[0][1][2] + countries_temperature[0][1][3] + countries_temperature[0][1][4] + countries_temperature[0][1][5] + countries_temperature[0][1][6])/7\n",
    "russia = (countries_temperature[2][1][0] + countries_temperature[0][1][1] + countries_temperature[0][1][2] + countries_temperature[0][1][3] + countries_temperature[0][1][4] + countries_temperature[0][1][5] + countries_temperature[0][1][6])/7\n",
    "poland = (countries_temperature[3][1][0] + countries_temperature[0][1][1] + countries_temperature[0][1][2] + countries_temperature[0][1][3] + countries_temperature[0][1][4] + countries_temperature[0][1][5] + countries_temperature[0][1][6])/7\n",
    "print(round(germany))"
   ]
  },
  {
   "cell_type": "code",
   "execution_count": null,
   "id": "c727db06",
   "metadata": {},
   "outputs": [],
   "source": []
  }
 ],
 "metadata": {
  "kernelspec": {
   "display_name": "Python 3 (ipykernel)",
   "language": "python",
   "name": "python3"
  },
  "language_info": {
   "codemirror_mode": {
    "name": "ipython",
    "version": 3
   },
   "file_extension": ".py",
   "mimetype": "text/x-python",
   "name": "python",
   "nbconvert_exporter": "python",
   "pygments_lexer": "ipython3",
   "version": "3.9.13"
  }
 },
 "nbformat": 4,
 "nbformat_minor": 5
}
