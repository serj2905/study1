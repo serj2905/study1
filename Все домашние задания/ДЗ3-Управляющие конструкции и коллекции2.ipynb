{
 "cells": [
  {
   "cell_type": "markdown",
   "id": "4a23358b",
   "metadata": {},
   "source": [
    "## Задание 1"
   ]
  },
  {
   "cell_type": "code",
   "execution_count": 12,
   "id": "4b28b274",
   "metadata": {},
   "outputs": [
    {
     "name": "stdout",
     "output_type": "stream",
     "text": [
      "es\n",
      "t\n"
     ]
    }
   ],
   "source": [
    "test = 'test'\n",
    "print(test[1:-1])\n",
    "testing = 'testing'\n",
    "print(testing[3])"
   ]
  },
  {
   "cell_type": "markdown",
   "id": "7f8b50cd",
   "metadata": {},
   "source": [
    "## Задание 2"
   ]
  },
  {
   "cell_type": "code",
   "execution_count": null,
   "id": "31d3c0af",
   "metadata": {},
   "outputs": [],
   "source": []
  }
 ],
 "metadata": {
  "kernelspec": {
   "display_name": "Python 3 (ipykernel)",
   "language": "python",
   "name": "python3"
  },
  "language_info": {
   "codemirror_mode": {
    "name": "ipython",
    "version": 3
   },
   "file_extension": ".py",
   "mimetype": "text/x-python",
   "name": "python",
   "nbconvert_exporter": "python",
   "pygments_lexer": "ipython3",
   "version": "3.9.13"
  }
 },
 "nbformat": 4,
 "nbformat_minor": 5
}
