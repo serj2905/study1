{
 "cells": [
  {
   "cell_type": "markdown",
   "id": "2f780e76",
   "metadata": {},
   "source": [
    "### Задание 1\n"
   ]
  },
  {
   "cell_type": "code",
   "execution_count": 88,
   "id": "fe89bd49",
   "metadata": {},
   "outputs": [
    {
     "name": "stdout",
     "output_type": "stream",
     "text": [
      "Фраза 1 длиннее фразы 2\n"
     ]
    }
   ],
   "source": [
    "string = 'Насколько проще было бы писать программы, если бы не заказчики'\n",
    "string1 = '640Кб должно хватить для любых задач. Билл Гейтс (по легенде)'\n",
    "if len(string) > len(string1):\n",
    "    print ('Фраза 1 длиннее фразы 2')\n",
    "elif len(string) < len(string1):\n",
    "    print('Фраза 2 длиннее фразы 1')\n",
    "\n"
   ]
  },
  {
   "cell_type": "code",
   "execution_count": 64,
   "id": "732df1a5",
   "metadata": {},
   "outputs": [
    {
     "name": "stdout",
     "output_type": "stream",
     "text": [
      "Фраза 2 длиннее фразы 1\n"
     ]
    }
   ],
   "source": [
    "string =  '640Кб должно хватить для любых задач. Билл Гейтс (по легенде)'\n",
    "string1 = 'Насколько проще было бы писать программы, если бы не заказчики' \n",
    "if len(string) > len(string1):\n",
    "    print ('Фраза 1 длиннее фразы 2')\n",
    "elif len(string) < len(string1):\n",
    "    print('Фраза 2 длиннее фразы 1')"
   ]
  },
  {
   "cell_type": "code",
   "execution_count": 78,
   "id": "4ff25512",
   "metadata": {},
   "outputs": [
    {
     "name": "stdout",
     "output_type": "stream",
     "text": [
      "Фразы равной длины\n"
     ]
    }
   ],
   "source": [
    "string = 'Насколько проще было бы писать программы, если бы не заказчики'\n",
    "string1 = 'Насколько проще было бы писать программы, если бы не заказчики'\n",
    "if len(string) > len(string1):\n",
    "    print ('Фраза 1 длиннее фразы 2')\n",
    "elif len(string) < len(string1):\n",
    "    print('Фраза 2 длиннее фразы 1')\n",
    "elif len(string) == len(string1):\n",
    "    print('Фразы равной длины')"
   ]
  },
  {
   "cell_type": "markdown",
   "id": "47717941",
   "metadata": {},
   "source": [
    "### Задание  2"
   ]
  },
  {
   "cell_type": "code",
   "execution_count": 1,
   "id": "fc0eb7e0",
   "metadata": {},
   "outputs": [
    {
     "name": "stdout",
     "output_type": "stream",
     "text": [
      "Введите год: 2004\n",
      "Високосный год\n"
     ]
    }
   ],
   "source": [
    "year = int(input('Введите год: '))\n",
    "if year % 4 == 0:\n",
    "    print('Високосный год')\n",
    "elif year % 4 != 0:\n",
    "    print('Обычный год')\n"
   ]
  },
  {
   "cell_type": "markdown",
   "id": "90ed85c3",
   "metadata": {},
   "source": [
    "### Задание 3\n"
   ]
  },
  {
   "cell_type": "code",
   "execution_count": 9,
   "id": "37c86deb",
   "metadata": {},
   "outputs": [
    {
     "name": "stdout",
     "output_type": "stream",
     "text": [
      "Введите месяц: авг8уст\n",
      "Введите месяц: д\n"
     ]
    },
    {
     "ename": "ValueError",
     "evalue": "invalid literal for int() with base 10: 'д'",
     "output_type": "error",
     "traceback": [
      "\u001b[1;31m---------------------------------------------------------------------------\u001b[0m",
      "\u001b[1;31mValueError\u001b[0m                                Traceback (most recent call last)",
      "\u001b[1;32m~\\AppData\\Local\\Temp\\ipykernel_8716\\1790497269.py\u001b[0m in \u001b[0;36m<module>\u001b[1;34m\u001b[0m\n\u001b[0;32m      1\u001b[0m \u001b[0mmonth\u001b[0m \u001b[1;33m=\u001b[0m \u001b[1;33m(\u001b[0m\u001b[0minput\u001b[0m\u001b[1;33m(\u001b[0m\u001b[1;34m'Введите месяц: '\u001b[0m\u001b[1;33m)\u001b[0m\u001b[1;33m)\u001b[0m\u001b[1;33m\u001b[0m\u001b[1;33m\u001b[0m\u001b[0m\n\u001b[1;32m----> 2\u001b[1;33m \u001b[0mdate\u001b[0m \u001b[1;33m=\u001b[0m \u001b[0mint\u001b[0m\u001b[1;33m(\u001b[0m\u001b[0minput\u001b[0m\u001b[1;33m(\u001b[0m\u001b[1;34m'Введите месяц: '\u001b[0m\u001b[1;33m)\u001b[0m\u001b[1;33m)\u001b[0m\u001b[1;33m\u001b[0m\u001b[1;33m\u001b[0m\u001b[0m\n\u001b[0m\u001b[0;32m      3\u001b[0m \u001b[1;32mif\u001b[0m \u001b[0minput\u001b[0m\u001b[1;33m(\u001b[0m\u001b[0mmonth\u001b[0m\u001b[1;33m)\u001b[0m\u001b[1;33m==\u001b[0m \u001b[1;34m'август'\u001b[0m\u001b[1;33m:\u001b[0m\u001b[1;33m\u001b[0m\u001b[1;33m\u001b[0m\u001b[0m\n\u001b[0;32m      4\u001b[0m     \u001b[0mmonth\u001b[0m \u001b[1;33m=\u001b[0m \u001b[1;33m(\u001b[0m\u001b[0minput\u001b[0m\u001b[1;33m(\u001b[0m\u001b[1;34m'Введите месяц: '\u001b[0m\u001b[1;33m)\u001b[0m\u001b[1;33m)\u001b[0m\u001b[1;33m\u001b[0m\u001b[1;33m\u001b[0m\u001b[0m\n\u001b[0;32m      5\u001b[0m \u001b[1;33m\u001b[0m\u001b[0m\n",
      "\u001b[1;31mValueError\u001b[0m: invalid literal for int() with base 10: 'д'"
     ]
    }
   ],
   "source": [
    "month = (input('Введите месяц: '))\n",
    "date = int(input('Введите число: '))\n",
    "if input(month)== 'август':\n",
    "    month = (input('Введите месяц: '))\n",
    "\n"
   ]
  },
  {
   "cell_type": "code",
   "execution_count": null,
   "id": "b2ec04be",
   "metadata": {},
   "outputs": [],
   "source": []
  }
 ],
 "metadata": {
  "kernelspec": {
   "display_name": "Python 3 (ipykernel)",
   "language": "python",
   "name": "python3"
  },
  "language_info": {
   "codemirror_mode": {
    "name": "ipython",
    "version": 3
   },
   "file_extension": ".py",
   "mimetype": "text/x-python",
   "name": "python",
   "nbconvert_exporter": "python",
   "pygments_lexer": "ipython3",
   "version": "3.9.13"
  }
 },
 "nbformat": 4,
 "nbformat_minor": 5
}
