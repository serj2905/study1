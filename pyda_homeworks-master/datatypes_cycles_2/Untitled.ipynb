{
 "cells": [
  {
   "cell_type": "markdown",
   "id": "ab4a16bf",
   "metadata": {},
   "source": [
    "## Задание 1"
   ]
  },
  {
   "cell_type": "code",
   "execution_count": 102,
   "id": "335e89c6",
   "metadata": {},
   "outputs": [
    {
     "name": "stdout",
     "output_type": "stream",
     "text": [
      "Результат:  { 98 , 35 , 15 , 213 , 54 , 119 }\n"
     ]
    }
   ],
   "source": [
    "ids = {'user1': [213, 213, 213, 15, 213], \n",
    "       'user2': [54, 54, 119, 119, 119], \n",
    "       'user3': [213, 98, 98, 35]}\n",
    "print('Результат: ', '{' , ids['user3'][2],',', ids['user3'][3], ',', ids['user1'][3], ',', ids['user1'][0], ',' , ids['user2'][0], ',' , ids['user2'][2],'}')\n",
    "\n",
    "Результат: {98, 35, 15, 213, 54, 119}"
   ]
  },
  {
   "cell_type": "markdown",
   "id": "aad41250",
   "metadata": {},
   "source": [
    "## Задание 2"
   ]
  },
  {
   "cell_type": "code",
   "execution_count": 5,
   "id": "cbb2ccb1",
   "metadata": {},
   "outputs": [
    {
     "name": "stdout",
     "output_type": "stream",
     "text": [
      "Результат: \n",
      "Поисковых запросов, содержащих 2 слов(а): 33%\n",
      "Поисковых запросов, содержащих 3 слов(а): 67%\n"
     ]
    }
   ],
   "source": [
    "queries = [\n",
    "    'смотреть сериалы онлайн',\n",
    "    'новости спорта',\n",
    "    'афиша кино',\n",
    "    'курс доллара',\n",
    "    'сериалы этим летом',\n",
    "    'курс по питону',\n",
    "    'сериалы про спорт',\n",
    "]\n",
    "str0 = queries[0]\n",
    "str1 = queries[1]\n",
    "str2 = queries[2]\n",
    "str3 = queries[3]\n",
    "str4 = queries[4]\n",
    "str5 = queries[5]\n",
    "str6 = queries[6]\n",
    "result0 = len(str0.split())\n",
    "result1 = len(str1.split())\n",
    "result2_ = len(str2.split())\n",
    "result3 = len(str3.split())\n",
    "result4 = len(str4.split())\n",
    "result5 = len(str5.split())\n",
    "result6 = len(str6.split())\n",
    "full = len(str0.split()) + len(str1.split()) + len(str2.split()) + len(str3.split()) + len(str4.split()) + len(str5.split()) + len(str6.split())\n",
    "result0_ = (len(str0.split()) / full) * 100\n",
    "result1_ = (len(str1.split()) / full) * 100\n",
    "result2_ = (len(str2.split()) / full) * 100\n",
    "result3_ = (len(str3.split()) / full) * 100\n",
    "result4_ = (len(str4.split()) / full) * 100\n",
    "result5_ = (len(str5.split()) / full) * 100\n",
    "result6_ = (len(str6.split()) / full) * 100\n",
    "final2 = round(float(result1_ + result2_ + result3_))\n",
    "final3 = round(float(result0_ + result4_ + result5_ + result6_))\n",
    "print('Результат: ')\n",
    "print(f'Поисковых запросов, содержащих 2 слов(а): {final2}%')\n",
    "print(f'Поисковых запросов, содержащих 3 слов(а): {final3}%')\n",
    "\n",
    "\n",
    "\n",
    "\n",
    "\n",
    "\n",
    "\n",
    "\n"
   ]
  },
  {
   "cell_type": "markdown",
   "id": "026a5a28",
   "metadata": {},
   "source": [
    "## Задание 3"
   ]
  },
  {
   "cell_type": "code",
   "execution_count": 135,
   "id": "c539b8a5",
   "metadata": {},
   "outputs": [
    {
     "name": "stdout",
     "output_type": "stream",
     "text": [
      "{ 'vk' : {'revenue': 103, 'cost': 98, 'ROI': 5.1}\n",
      "'yandex': {'revenue': 179, 'cost': 153, 'ROI': 17.0}\n",
      "'facebook' : {'revenue': 103, 'cost': 110, 'ROI': -6.4}\n",
      "'adwords' : {'revenue': 35, 'cost': 34, 'ROI': 2.9}\n",
      "'twitter' : {'revenue': 11, 'cost': 24, 'ROI': -54.2} }\n"
     ]
    }
   ],
   "source": [
    "results = {\n",
    "    'vk': {'revenue': 103, 'cost': 98 , 'ROI': vkRoi },\n",
    "    'yandex': {'revenue': 179, 'cost': 153 , 'ROI': yandexRoi},\n",
    "    'facebook': {'revenue': 103, 'cost': 110 , 'ROI': facebookRoi},\n",
    "    'adwords': {'revenue': 35, 'cost': 34 , 'ROI': adwordsRoi},\n",
    "    'twitter': {'revenue': 11, 'cost': 24 , 'ROI': twitterRoi},\n",
    "}\n",
    "\n",
    "vkRevenue = results['vk']['revenue']\n",
    "vkCost = results['vk']['cost']\n",
    "vkRoi = round(((vkRevenue / vkCost - 1) * 100) , 1)\n",
    "\n",
    "yandexRevenue = results['yandex']['revenue']\n",
    "yandexCost = results['yandex']['cost']\n",
    "yandexRoi = round(((yandexRevenue / yandexCost - 1) * 100) , 1)\n",
    "\n",
    "facebookRevenue = results['facebook']['revenue']\n",
    "facebookCost = results['facebook']['cost']\n",
    "facebookRoi = round(((facebookRevenue / facebookCost - 1) * 100) , 1)\n",
    "\n",
    "adwordsRevenue = results['adwords']['revenue']\n",
    "adwordsCost = results['adwords']['cost']\n",
    "adwordsRoi = round(((adwordsRevenue / adwordsCost - 1) * 100) , 1)\n",
    "twitterRevenue = results['twitter']['revenue']\n",
    "twitterCost = results['twitter']['cost']\n",
    "twitterRoi = round(((twitterRevenue /twitterCost - 1) * 100), 1)\n",
    "\n",
    "print('{ \\'vk\\' :' , results['vk'])\n",
    "print('\\'yandex\\':' , results['yandex'])\n",
    "print('\\'facebook\\' :' , results['facebook'])\n",
    "print('\\'adwords\\' :' , results['adwords'])\n",
    "print('\\'twitter\\' :' , results['twitter'] ,'}')\n",
    "\n",
    "\n",
    "\n",
    "\n",
    "\n",
    "\n",
    "\n",
    "\n",
    "    "
   ]
  },
  {
   "cell_type": "markdown",
   "id": "ca3ea17c",
   "metadata": {},
   "source": [
    "## Задание 4"
   ]
  },
  {
   "cell_type": "code",
   "execution_count": 115,
   "id": "7deca7c6",
   "metadata": {},
   "outputs": [
    {
     "name": "stdout",
     "output_type": "stream",
     "text": [
      "Максимальный объем продаж на рекламном канале: vk\n"
     ]
    }
   ],
   "source": [
    "stats = {'facebook': 55, 'yandex': 115, 'vk': 120, 'google': 99, 'email': 42, 'ok': 80}\n",
    "fb = stats['facebook']\n",
    "yan = stats['yandex']\n",
    "vk = stats['vk']\n",
    "ggl = stats['google']\n",
    "email = stats['email']\n",
    "ok = stats['ok']\n",
    "if fb > yan and fb > vk and fb > ggl and fb > email and fb > ok:\n",
    "    print('Максимальный объем продаж на рекламном канале: facebook')\n",
    "elif yan > fb and yan > vk and yan > ggl and yan > email and yan > ok:\n",
    "    print('Максимальный объем продаж на рекламном канале: yandex ')\n",
    "elif vk > fb and yan < vk and vk > ggl and vk > email and vk > ok:\n",
    "    print('Максимальный объем продаж на рекламном канале: vk')\n",
    "elif ggl > fb and ggl > vk and yan < ggl and ggl > email and ok > ok:\n",
    "    print('Максимальный объем продаж на рекламном канале: google ')\n",
    "elif email > fb and email > vk and email > ggl and yan < email and email > ok:\n",
    "    print('Максимальный объем продаж на рекламном канале: email ')\n",
    "elif ok > fb and ok > vk and ok > ggl and ok > email and yan < ok:\\\n",
    "    print('Максимальный объем продаж на рекламном канале: ok ')\n",
    "\n"
   ]
  },
  {
   "cell_type": "markdown",
   "id": "13c6d4c7",
   "metadata": {},
   "source": [
    "## Задание 6"
   ]
  },
  {
   "cell_type": "code",
   "execution_count": 134,
   "id": "5b6e9ce7",
   "metadata": {},
   "outputs": [
    {
     "name": "stdout",
     "output_type": "stream",
     "text": [
      "Введите количество порций3\n"
     ]
    }
   ],
   "source": [
    "cook_book = {\n",
    "  'салат': [\n",
    "     {'ingridient_name': 'сыр', 'quantity': 50, 'measure': 'гр'},\n",
    "     {'ingridient_name': 'томаты', 'quantity': 2, 'measure': 'шт'},\n",
    "     {'ingridient_name': 'огурцы', 'quantity': 20, 'measure': 'гр'},\n",
    "     {'ingridient_name': 'маслины', 'quantity': 10, 'measure': 'гр'},\n",
    "     {'ingridient_name': 'оливковое масло', 'quantity': 20, 'measure': 'мл'},\n",
    "     {'ingridient_name': 'салат', 'quantity': 10, 'measure': 'гр'},\n",
    "     {'ingridient_name': 'перец', 'quantity': 20, 'measure': 'гр'}\n",
    "    ],\n",
    "  'пицца': [\n",
    "     {'ingridient_name': 'сыр', 'quantity': 20, 'measure': 'гр'},\n",
    "     {'ingridient_name': 'колбаса', 'quantity': 30, 'measure': 'гр'},\n",
    "     {'ingridient_name': 'бекон', 'quantity': 30, 'measure': 'гр'},\n",
    "     {'ingridient_name': 'оливки', 'quantity': 10, 'measure': 'гр'},\n",
    "     {'ingridient_name': 'томаты', 'quantity': 20, 'measure': 'гр'},\n",
    "     {'ingridient_name': 'тесто', 'quantity': 100, 'measure': 'гр'},   \n",
    "    ],\n",
    "  'лимонад': [\n",
    "     {'ingridient_name': 'лимон', 'quantity': 1, 'measure': 'шт'},\n",
    "     {'ingridient_name': 'вода', 'quantity': 200, 'measure': 'мл'},\n",
    "     {'ingridient_name': 'сахар', 'quantity': 10, 'measure': 'гр'},\n",
    "     {'ingridient_name': 'лайм', 'quantity': 20, 'measure': 'гр'},    \n",
    "    ]\n",
    "}\n",
    "\n",
    "user = int(input('Введите количество порций'))\n",
    "salat1 = cook_book['салат'][0]\n",
    "\n",
    "\n",
    "\n",
    "\n",
    "\n",
    "\n",
    "\n"
   ]
  },
  {
   "cell_type": "code",
   "execution_count": 133,
   "id": "040503d3",
   "metadata": {},
   "outputs": [
    {
     "name": "stdout",
     "output_type": "stream",
     "text": [
      "{'ingridient_name': 'сыр', 'quantity': 50, 'measure': 'гр'}\n"
     ]
    }
   ],
   "source": [
    "print(cook_book['салат'][0])\n"
   ]
  },
  {
   "cell_type": "code",
   "execution_count": null,
   "id": "5f274f1f",
   "metadata": {},
   "outputs": [],
   "source": []
  },
  {
   "cell_type": "code",
   "execution_count": null,
   "id": "556424d0",
   "metadata": {},
   "outputs": [],
   "source": []
  }
 ],
 "metadata": {
  "kernelspec": {
   "display_name": "Python 3 (ipykernel)",
   "language": "python",
   "name": "python3"
  },
  "language_info": {
   "codemirror_mode": {
    "name": "ipython",
    "version": 3
   },
   "file_extension": ".py",
   "mimetype": "text/x-python",
   "name": "python",
   "nbconvert_exporter": "python",
   "pygments_lexer": "ipython3",
   "version": "3.9.13"
  }
 },
 "nbformat": 4,
 "nbformat_minor": 5
}
