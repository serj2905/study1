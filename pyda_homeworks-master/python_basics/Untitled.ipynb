{
 "cells": [
  {
   "cell_type": "markdown",
   "id": "2f780e76",
   "metadata": {},
   "source": [
    "### Задание 1\n"
   ]
  },
  {
   "cell_type": "code",
   "execution_count": 88,
   "id": "fe89bd49",
   "metadata": {},
   "outputs": [
    {
     "name": "stdout",
     "output_type": "stream",
     "text": [
      "Фраза 1 длиннее фразы 2\n"
     ]
    }
   ],
   "source": [
    "string = 'Насколько проще было бы писать программы, если бы не заказчики'\n",
    "string1 = '640Кб должно хватить для любых задач. Билл Гейтс (по легенде)'\n",
    "if len(string) > len(string1):\n",
    "    print ('Фраза 1 длиннее фразы 2')\n",
    "elif len(string) < len(string1):\n",
    "    print('Фраза 2 длиннее фразы 1')\n",
    "\n"
   ]
  },
  {
   "cell_type": "code",
   "execution_count": 64,
   "id": "732df1a5",
   "metadata": {},
   "outputs": [
    {
     "name": "stdout",
     "output_type": "stream",
     "text": [
      "Фраза 2 длиннее фразы 1\n"
     ]
    }
   ],
   "source": [
    "string =  '640Кб должно хватить для любых задач. Билл Гейтс (по легенде)'\n",
    "string1 = 'Насколько проще было бы писать программы, если бы не заказчики' \n",
    "if len(string) > len(string1):\n",
    "    print ('Фраза 1 длиннее фразы 2')\n",
    "elif len(string) < len(string1):\n",
    "    print('Фраза 2 длиннее фразы 1')"
   ]
  },
  {
   "cell_type": "code",
   "execution_count": 78,
   "id": "4ff25512",
   "metadata": {},
   "outputs": [
    {
     "name": "stdout",
     "output_type": "stream",
     "text": [
      "Фразы равной длины\n"
     ]
    }
   ],
   "source": [
    "string = 'Насколько проще было бы писать программы, если бы не заказчики'\n",
    "string1 = 'Насколько проще было бы писать программы, если бы не заказчики'\n",
    "if len(string) > len(string1):\n",
    "    print ('Фраза 1 длиннее фразы 2')\n",
    "elif len(string) < len(string1):\n",
    "    print('Фраза 2 длиннее фразы 1')\n",
    "elif len(string) == len(string1):\n",
    "    print('Фразы равной длины')"
   ]
  },
  {
   "cell_type": "markdown",
   "id": "47717941",
   "metadata": {},
   "source": [
    "### Задание  2"
   ]
  },
  {
   "cell_type": "code",
   "execution_count": 2,
   "id": "fc0eb7e0",
   "metadata": {},
   "outputs": [
    {
     "name": "stdout",
     "output_type": "stream",
     "text": [
      "Введите год: 2008\n",
      "Високосный год\n"
     ]
    }
   ],
   "source": [
    "year = int(input('Введите год: '))\n",
    "if year % 4 == 0:\n",
    "    print('Високосный год')\n",
    "elif year % 4 != 0:\n",
    "    print('Обычный год')\n"
   ]
  },
  {
   "cell_type": "markdown",
   "id": "90ed85c3",
   "metadata": {},
   "source": [
    "### Задание 3\n"
   ]
  },
  {
   "cell_type": "code",
   "execution_count": 8,
   "id": "37c86deb",
   "metadata": {},
   "outputs": [
    {
     "name": "stdout",
     "output_type": "stream",
     "text": [
      "Введите месяц: август\n"
     ]
    },
    {
     "ename": "TypeError",
     "evalue": "dict expected at most 1 argument, got 12",
     "output_type": "error",
     "traceback": [
      "\u001b[1;31m---------------------------------------------------------------------------\u001b[0m",
      "\u001b[1;31mTypeError\u001b[0m                                 Traceback (most recent call last)",
      "\u001b[1;32m~\\AppData\\Local\\Temp\\ipykernel_16148\\76006283.py\u001b[0m in \u001b[0;36m<module>\u001b[1;34m\u001b[0m\n\u001b[0;32m      1\u001b[0m \u001b[0mmonth\u001b[0m \u001b[1;33m=\u001b[0m \u001b[0minput\u001b[0m\u001b[1;33m(\u001b[0m\u001b[1;34m'Введите месяц: '\u001b[0m\u001b[1;33m)\u001b[0m\u001b[1;33m\u001b[0m\u001b[1;33m\u001b[0m\u001b[0m\n\u001b[1;32m----> 2\u001b[1;33m \u001b[0mmonth\u001b[0m \u001b[1;33m=\u001b[0m \u001b[0mdict\u001b[0m \u001b[1;33m(\u001b[0m\u001b[1;34m'август'\u001b[0m\u001b[1;33m,\u001b[0m \u001b[1;34m'сентябрь'\u001b[0m \u001b[1;33m,\u001b[0m \u001b[1;34m'октябрь'\u001b[0m \u001b[1;33m,\u001b[0m \u001b[1;34m'ноябрь'\u001b[0m \u001b[1;33m,\u001b[0m \u001b[1;34m'декабрь'\u001b[0m \u001b[1;33m,\u001b[0m \u001b[1;34m'январь'\u001b[0m \u001b[1;33m,\u001b[0m \u001b[1;34m'февраль'\u001b[0m \u001b[1;33m,\u001b[0m \u001b[1;34m'март'\u001b[0m \u001b[1;33m,\u001b[0m \u001b[1;34m'май'\u001b[0m \u001b[1;33m,\u001b[0m\u001b[1;34m'апрель'\u001b[0m \u001b[1;33m,\u001b[0m \u001b[1;34m'июнь'\u001b[0m \u001b[1;33m,\u001b[0m \u001b[1;34m'июль'\u001b[0m\u001b[1;33m)\u001b[0m\u001b[1;33m\u001b[0m\u001b[1;33m\u001b[0m\u001b[0m\n\u001b[0m\u001b[0;32m      3\u001b[0m \u001b[1;32mif\u001b[0m \u001b[0mmonth\u001b[0m\u001b[1;33m.\u001b[0m\u001b[0mlower\u001b[0m\u001b[1;33m(\u001b[0m\u001b[1;33m)\u001b[0m \u001b[1;33m==\u001b[0m \u001b[1;34m'август'\u001b[0m\u001b[1;33m:\u001b[0m\u001b[1;33m\u001b[0m\u001b[1;33m\u001b[0m\u001b[0m\n\u001b[0;32m      4\u001b[0m    \u001b[0mprint\u001b[0m\u001b[1;33m(\u001b[0m\u001b[0minput\u001b[0m\u001b[1;33m(\u001b[0m\u001b[1;34m'Введите число'\u001b[0m\u001b[1;33m)\u001b[0m\u001b[1;33m)\u001b[0m\u001b[1;33m\u001b[0m\u001b[1;33m\u001b[0m\u001b[0m\n\u001b[0;32m      5\u001b[0m \u001b[1;33m\u001b[0m\u001b[0m\n",
      "\u001b[1;31mTypeError\u001b[0m: dict expected at most 1 argument, got 12"
     ]
    }
   ],
   "source": [
    "month = input('Введите месяц: ')\n",
    "\n",
    "month = dict('август', 'сентябрь' , 'октябрь' , 'ноябрь' , 'декабрь' , 'январь' , 'февраль' , 'март' , 'май' ,'апрель' , 'июнь' , 'июль')\n",
    "if month.lower() == 'август':\n",
    "   print(input('Введите число'))\n",
    "\n"
   ]
  },
  {
   "cell_type": "code",
   "execution_count": null,
   "id": "b813e122",
   "metadata": {},
   "outputs": [],
   "source": []
  },
  {
   "cell_type": "markdown",
   "id": "c25d76c9",
   "metadata": {},
   "source": [
    "\n",
    "### Задание 4"
   ]
  },
  {
   "cell_type": "code",
   "execution_count": 8,
   "id": "39a31a58",
   "metadata": {},
   "outputs": [
    {
     "name": "stdout",
     "output_type": "stream",
     "text": [
      "width: 55\n",
      "length: 55\n",
      "height: 55\n",
      "Коробка №3\n"
     ]
    }
   ],
   "source": [
    "\n",
    "width = int(input('width: '))\n",
    "length =int(input('length: '))\n",
    "height = int(input('height: '))\n",
    "if width <= 15 and length <=15 and height <= 15:\n",
    "    print('Коробка №1')\n",
    "elif width > 200 or length > 200 or height > 200:\n",
    "    print(' Купите упаковку для лыж')\n",
    "elif (width > 15 and width < 50) or (length > 15 and length < 50) or (height > 15 and height < 50):\n",
    "    print('Коробка №2')\n",
    "else: print('Коробка №3')"
   ]
  },
  {
   "cell_type": "code",
   "execution_count": null,
   "id": "dd12b2f8",
   "metadata": {},
   "outputs": [],
   "source": []
  }
 ],
 "metadata": {
  "kernelspec": {
   "display_name": "Python 3 (ipykernel)",
   "language": "python",
   "name": "python3"
  },
  "language_info": {
   "codemirror_mode": {
    "name": "ipython",
    "version": 3
   },
   "file_extension": ".py",
   "mimetype": "text/x-python",
   "name": "python",
   "nbconvert_exporter": "python",
   "pygments_lexer": "ipython3",
   "version": "3.9.13"
  }
 },
 "nbformat": 4,
 "nbformat_minor": 5
}
