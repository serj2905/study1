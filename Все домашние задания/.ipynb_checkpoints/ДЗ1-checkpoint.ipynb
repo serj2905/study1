{
 "cells": [
  {
   "cell_type": "markdown",
   "id": "2f780e76",
   "metadata": {},
   "source": [
    "### Задание 1\n"
   ]
  },
  {
   "cell_type": "code",
   "execution_count": 88,
   "id": "fe89bd49",
   "metadata": {},
   "outputs": [
    {
     "name": "stdout",
     "output_type": "stream",
     "text": [
      "Фраза 1 длиннее фразы 2\n"
     ]
    }
   ],
   "source": [
    "string = 'Насколько проще было бы писать программы, если бы не заказчики'\n",
    "string1 = '640Кб должно хватить для любых задач. Билл Гейтс (по легенде)'\n",
    "if len(string) > len(string1):\n",
    "    print ('Фраза 1 длиннее фразы 2')\n",
    "elif len(string) < len(string1):\n",
    "    print('Фраза 2 длиннее фразы 1')\n",
    "\n"
   ]
  },
  {
   "cell_type": "code",
   "execution_count": 64,
   "id": "732df1a5",
   "metadata": {},
   "outputs": [
    {
     "name": "stdout",
     "output_type": "stream",
     "text": [
      "Фраза 2 длиннее фразы 1\n"
     ]
    }
   ],
   "source": [
    "string =  '640Кб должно хватить для любых задач. Билл Гейтс (по легенде)'\n",
    "string1 = 'Насколько проще было бы писать программы, если бы не заказчики' \n",
    "if len(string) > len(string1):\n",
    "    print ('Фраза 1 длиннее фразы 2')\n",
    "elif len(string) < len(string1):\n",
    "    print('Фраза 2 длиннее фразы 1')"
   ]
  },
  {
   "cell_type": "code",
   "execution_count": 78,
   "id": "4ff25512",
   "metadata": {},
   "outputs": [
    {
     "name": "stdout",
     "output_type": "stream",
     "text": [
      "Фразы равной длины\n"
     ]
    }
   ],
   "source": [
    "string = 'Насколько проще было бы писать программы, если бы не заказчики'\n",
    "string1 = 'Насколько проще было бы писать программы, если бы не заказчики'\n",
    "if len(string) > len(string1):\n",
    "    print ('Фраза 1 длиннее фразы 2')\n",
    "elif len(string) < len(string1):\n",
    "    print('Фраза 2 длиннее фразы 1')\n",
    "elif len(string) == len(string1):\n",
    "    print('Фразы равной длины')"
   ]
  },
  {
   "cell_type": "markdown",
   "id": "47717941",
   "metadata": {},
   "source": [
    "### Задание  2"
   ]
  },
  {
   "cell_type": "code",
   "execution_count": 2,
   "id": "fc0eb7e0",
   "metadata": {},
   "outputs": [
    {
     "name": "stdout",
     "output_type": "stream",
     "text": [
      "Введите год: 2008\n",
      "Високосный год\n"
     ]
    }
   ],
   "source": [
    "year = int(input('Введите год: '))\n",
    "if year % 4 == 0:\n",
    "    print('Високосный год')\n",
    "elif year % 4 != 0:\n",
    "    print('Обычный год')\n"
   ]
  },
  {
   "cell_type": "markdown",
   "id": "90ed85c3",
   "metadata": {},
   "source": [
    "### Задание 3\n"
   ]
  },
  {
   "cell_type": "code",
   "execution_count": null,
   "id": "37c86deb",
   "metadata": {},
   "outputs": [
    {
     "name": "stdout",
     "output_type": "stream",
     "text": [
      "эта программа для определения знака\n",
      "Чтобы начать напишитее \"старт\"сжж\n",
      "Введите месяц август\n",
      "Введите число 25\n",
      "Вы дева\n"
     ]
    }
   ],
   "source": [
    "print('эта программа для определения знака')\n",
    "invalid_input = True\n",
    "\n",
    "def month_(str_month):\n",
    "    str_month = str_month.lower()\n",
    "    dict_ = {'январь' : 1 ,\n",
    "             'февраль': 2,\n",
    "             'март': 3 ,\n",
    "             'апрель': 4 ,\n",
    "             'май': 5 ,\n",
    "             'июнь': 6 ,\n",
    "             'июль': 7 ,\n",
    "             'август': 8 ,\n",
    "             'сентябрь': 9 ,\n",
    "             'октябрь': 10 ,\n",
    "             'ноябрь': 11 ,\n",
    "             'декабрь': 12 ,} \n",
    "    if str_month in dict_.keys():\n",
    "        m = dict_[str_month]\n",
    "        if m:\n",
    "            return m\n",
    "        else:\n",
    "            return None\n",
    "\n",
    "def zodiac() : \n",
    "    month = month_(input('Введите месяц '))\n",
    "    date = int(input('Введите число '))\n",
    "    \n",
    "    if (month== 1 and 21 <= date and date <= 31) or (month == 2 and 1 <=  date and date <= 18):\n",
    "        print ('Вы водолей')\n",
    "    elif (month== 2 and 21 <= date and date  <= 28) or (month == 3 and 1 <=  date and date <= 21):     \n",
    "        print('Вы рыбы')\n",
    "    elif (month== 4 and 21 <= date and date <= 30) or (month== 5 and 1 <= date and date <= 20):  \n",
    "        print('Вы телец')\n",
    "    elif (month== 5 and 21 <= date and date <= 31) or (month== 6 and 1 <= date and date <= 21):\n",
    "        print ('Вы близнецы')\n",
    "    elif (month== 6 and 22 <= date and date <= 30) or (month== 7 and 1 <= date and date <= 22):\n",
    "        print ('Вы рак')\n",
    "    elif (month== 7 and 23 <= date and date <= 31) or (month== 8 and 1 <= date and date <= 22):\n",
    "        print ('Вы лев')\n",
    "    elif (month== 8 and 23 <= date and date <= 31) or (month == 9 and 1 <= date and date <= 22):\n",
    "        print ('Вы дева')\n",
    "    elif (month== 9 and 23 <= date and date <= 30) or (month == 10 and 1 <= date and date <= 23):\n",
    "        print ('Вы весы')\n",
    "    elif (month== 10 and 24 <= date and date <= 31) or (month == 11 and 1 <= date and date <= 23):\n",
    "        print ('Вы скорпион')\n",
    "    elif (month== 11 and 23 <= date and date <= 30) or (month == 12 and 1 <= date and date <= 21):\n",
    "        print('Вы стрелец')\n",
    "    elif (month== 12 and 22 <= date and date <= 31) or (month == 1 and 1 <= date and date <= 20):\n",
    "        print ('Вы козерог')\n",
    "\n",
    "    else:\n",
    "        print (\"дата написана неправильно \")\n",
    "    \n",
    "start = input('Чтобы начать напишитее \"старт\"')\n",
    "while invalid_input :\n",
    "    zodiac()\n",
    "\n",
    "    \n",
    "            \n",
    "            \n",
    "            \n",
    "            \n",
    "            \n",
    "            \n",
    "    \n",
    "    \n",
    "    \n",
    "    \n",
    "    \n",
    "            \n"
   ]
  },
  {
   "cell_type": "code",
   "execution_count": null,
   "id": "b813e122",
   "metadata": {},
   "outputs": [],
   "source": []
  },
  {
   "cell_type": "markdown",
   "id": "c25d76c9",
   "metadata": {},
   "source": [
    "\n",
    "### Задание 4"
   ]
  },
  {
   "cell_type": "code",
   "execution_count": 8,
   "id": "39a31a58",
   "metadata": {},
   "outputs": [
    {
     "name": "stdout",
     "output_type": "stream",
     "text": [
      "width: 55\n",
      "length: 55\n",
      "height: 55\n",
      "Коробка №3\n"
     ]
    }
   ],
   "source": [
    "\n",
    "width = int(input('width: '))\n",
    "length =int(input('length: '))\n",
    "height = int(input('height: '))\n",
    "if width <= 15 and length <=15 and height <= 15:\n",
    "    print('Коробка №1')\n",
    "elif width > 200 or length > 200 or height > 200:\n",
    "    print(' Купите упаковку для лыж')\n",
    "elif (width > 15 and width < 50) or (length > 15 and length < 50) or (height > 15 and height < 50):\n",
    "    print('Коробка №2')\n",
    "else: print('Коробка №3')"
   ]
  },
  {
   "cell_type": "markdown",
   "id": "a5531a17",
   "metadata": {},
   "source": [
    "## Задание 5"
   ]
  },
  {
   "cell_type": "code",
   "execution_count": 8,
   "id": "34713b53",
   "metadata": {},
   "outputs": [
    {
     "ename": "TypeError",
     "evalue": "string indices must be integers",
     "output_type": "error",
     "traceback": [
      "\u001b[1;31m---------------------------------------------------------------------------\u001b[0m",
      "\u001b[1;31mTypeError\u001b[0m                                 Traceback (most recent call last)",
      "\u001b[1;32m~\\AppData\\Local\\Temp\\ipykernel_11296\\1868619951.py\u001b[0m in \u001b[0;36m<module>\u001b[1;34m\u001b[0m\n\u001b[0;32m      1\u001b[0m \u001b[0mS\u001b[0m \u001b[1;33m=\u001b[0m \u001b[1;34m'123456'\u001b[0m\u001b[1;33m\u001b[0m\u001b[1;33m\u001b[0m\u001b[0m\n\u001b[1;32m----> 2\u001b[1;33m \u001b[0mprint\u001b[0m\u001b[1;33m(\u001b[0m\u001b[0mS\u001b[0m\u001b[1;33m[\u001b[0m\u001b[1;36m1\u001b[0m\u001b[1;33m,\u001b[0m\u001b[1;36m2\u001b[0m\u001b[1;33m,\u001b[0m\u001b[1;36m3\u001b[0m\u001b[1;33m]\u001b[0m\u001b[1;33m)\u001b[0m\u001b[1;33m\u001b[0m\u001b[1;33m\u001b[0m\u001b[0m\n\u001b[0m",
      "\u001b[1;31mTypeError\u001b[0m: string indices must be integers"
     ]
    }
   ],
   "source": [
    "S = '123456'\n",
    "print(S[])"
   ]
  },
  {
   "cell_type": "code",
   "execution_count": 3,
   "id": "460e4cce",
   "metadata": {},
   "outputs": [
    {
     "name": "stdout",
     "output_type": "stream",
     "text": [
      "Введите номер билета :123123\n",
      "счастливый\n"
     ]
    }
   ],
   "source": [
    "N = input(\"Введите номер билета :\")\n",
    "if sum([int(x) for x in (N[-3:])])==sum([int(x) for x in (N[:3])]):\n",
    "    print('счастливый') \n",
    "else: \n",
    "    print('не счастливый')\n",
    "\n"
   ]
  },
  {
   "cell_type": "code",
   "execution_count": null,
   "id": "26a1f153",
   "metadata": {},
   "outputs": [],
   "source": [
    "n = 10000\n",
    "len(n)\n",
    "print(len(n))"
   ]
  },
  {
   "cell_type": "markdown",
   "id": "2b335fd8",
   "metadata": {},
   "source": [
    "## Задание 6"
   ]
  },
  {
   "cell_type": "code",
   "execution_count": 2,
   "id": "81ab0b73",
   "metadata": {},
   "outputs": [
    {
     "name": "stdout",
     "output_type": "stream",
     "text": [
      "Введите Стартcnfhn\n"
     ]
    }
   ],
   "source": [
    "user = input('Введите Старт')\n",
    "\n",
    "def user_(figures):\n",
    "    figures = figures.lower()\n",
    "    dict_ = {'круг' : 1 ,\n",
    "             'треугольник' : 2 ,\n",
    "             'прямоугольник' : 3 ,\n",
    "            } \n",
    "   \n",
    "    if figures in dict_.keys():\n",
    "        m = dict_[figures]\n",
    "\n",
    "\n",
    "\n",
    "\n",
    "   \n"
   ]
  },
  {
   "cell_type": "code",
   "execution_count": null,
   "id": "ab3d78b2",
   "metadata": {},
   "outputs": [],
   "source": []
  },
  {
   "cell_type": "code",
   "execution_count": null,
   "id": "196cf8a8",
   "metadata": {},
   "outputs": [],
   "source": []
  }
 ],
 "metadata": {
  "kernelspec": {
   "display_name": "Python 3 (ipykernel)",
   "language": "python",
   "name": "python3"
  },
  "language_info": {
   "codemirror_mode": {
    "name": "ipython",
    "version": 3
   },
   "file_extension": ".py",
   "mimetype": "text/x-python",
   "name": "python",
   "nbconvert_exporter": "python",
   "pygments_lexer": "ipython3",
   "version": "3.9.13"
  }
 },
 "nbformat": 4,
 "nbformat_minor": 5
}
