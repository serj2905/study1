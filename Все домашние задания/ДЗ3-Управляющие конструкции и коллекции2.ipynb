{
 "cells": [
  {
   "cell_type": "markdown",
   "id": "c3113de5",
   "metadata": {},
   "source": [
    "## Задание 1"
   ]
  },
  {
   "cell_type": "code",
   "execution_count": 12,
   "id": "4b28b274",
   "metadata": {},
   "outputs": [
    {
     "name": "stdout",
     "output_type": "stream",
     "text": [
      "es\n",
      "t\n"
     ]
    }
   ],
   "source": [
    "test = 'test'\n",
    "print(test[1:-1])\n",
    "testing = 'testing'\n",
    "print(testing[3])"
   ]
  },
  {
   "cell_type": "markdown",
   "id": "348b67e7",
   "metadata": {},
   "source": [
    "## Задание 2"
   ]
  },
  {
   "cell_type": "code",
   "execution_count": 38,
   "id": "52bf590b",
   "metadata": {},
   "outputs": [
    {
     "name": "stdout",
     "output_type": "stream",
     "text": [
      "Идеальные пары: \n",
      "Peter и Kate\n",
      "Alex и Liza\n",
      "John и Kira\n",
      "Arthur и Emma\n",
      "Richard и Trisha\n"
     ]
    }
   ],
   "source": [
    "print('Идеальные пары: ')\n",
    "boys = ['Peter', 'Alex', 'John', 'Arthur', 'Richard']\n",
    "girls = ['Kate', 'Liza', 'Kira', 'Emma', 'Trisha']\n",
    "bg = zip(boys , girls)\n",
    "for pari in bg:\n",
    "    print(pari[0] ,  'и' , pari[1])\n",
    "    "
   ]
  },
  {
   "cell_type": "markdown",
   "id": "43f3393d",
   "metadata": {},
   "source": [
    "## Задание 3"
   ]
  },
  {
   "cell_type": "code",
   "execution_count": 84,
   "id": "8fbdae1f",
   "metadata": {},
   "outputs": [
    {
     "ename": "SyntaxError",
     "evalue": "EOL while scanning string literal (1067162418.py, line 11)",
     "output_type": "error",
     "traceback": [
      "\u001b[1;36m  File \u001b[1;32m\"C:\\Users\\сергей\\AppData\\Local\\Temp\\ipykernel_1740\\1067162418.py\"\u001b[1;36m, line \u001b[1;32m11\u001b[0m\n\u001b[1;33m    print(f'Температура в Германии : {round(germany)})\u001b[0m\n\u001b[1;37m                                                      ^\u001b[0m\n\u001b[1;31mSyntaxError\u001b[0m\u001b[1;31m:\u001b[0m EOL while scanning string literal\n"
     ]
    }
   ],
   "source": [
    "countries_temperature = [\n",
    " ['Thailand', [75.2, 77, 78.8, 73.4, 68, 75.2, 77]],\n",
    " ['Germany', [57.2, 55.4, 59, 59, 53.6, 55.4, 57.2]],\n",
    " ['Russia', [35.6, 37.4, 39.2, 41, 42.8, 39.2, 35.6]],\n",
    " ['Poland', [50, 50, 53.6, 57.2, 55.4, 55.4, 51.8]],\n",
    "]\n",
    "thai = (((countries_temperature[0][1][0] + countries_temperature[0][1][1] + countries_temperature[0][1][2] + countries_temperature[0][1][3] + countries_temperature[0][1][4] + countries_temperature[0][1][5] + countries_temperature[0][1][6])/7) - 32)/ 1.8\n",
    "germany = (((countries_temperature[1][1][0] + countries_temperature[0][1][1] + countries_temperature[0][1][2] + countries_temperature[0][1][3] + countries_temperature[0][1][4] + countries_temperature[0][1][5] + countries_temperature[0][1][6])/7) - 32)/ 1.8\n",
    "russia = (((countries_temperature[2][1][0] + countries_temperature[0][1][1] + countries_temperature[0][1][2] + countries_temperature[0][1][3] + countries_temperature[0][1][4] + countries_temperature[0][1][5] + countries_temperature[0][1][6])/7) - 32)/ 1.8\n",
    "poland = (((countries_temperature[3][1][0] + countries_temperature[0][1][1] + countries_temperature[0][1][2] + countries_temperature[0][1][3] + countries_temperature[0][1][4] + countries_temperature[0][1][5] + countries_temperature[0][1][6])/7) - 32)/ 1.8\n",
    "print(f'Температура в Германии : {round(germany)})\n"
   ]
  },
  {
   "cell_type": "code",
   "execution_count": null,
   "id": "a953e19f",
   "metadata": {},
   "outputs": [],
   "source": []
  }
 ],
 "metadata": {
  "kernelspec": {
   "display_name": "Python 3 (ipykernel)",
   "language": "python",
   "name": "python3"
  },
  "language_info": {
   "codemirror_mode": {
    "name": "ipython",
    "version": 3
   },
   "file_extension": ".py",
   "mimetype": "text/x-python",
   "name": "python",
   "nbconvert_exporter": "python",
   "pygments_lexer": "ipython3",
   "version": "3.9.13"
  }
 },
 "nbformat": 4,
 "nbformat_minor": 5
}
