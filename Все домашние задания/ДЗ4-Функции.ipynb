{
 "cells": [
  {
   "cell_type": "markdown",
   "id": "b611005a",
   "metadata": {},
   "source": [
    "## Задание 1\n"
   ]
  },
  {
   "cell_type": "markdown",
   "id": "df04bfbf",
   "metadata": {},
   "source": [
    "Вам нужно помочь секретарю автоматизировать работу. Для этого нужно написать программу, которая будет на основе хранимых данных исполнять пользовательские команды.\n",
    "\n",
    "Исходные данные имеют следующую структуру:\n",
    "\n",
    "1. перечень всех документов\n",
    "```\n",
    "documents = [\n",
    "    {'type': 'passport', 'number': '2207 876234', 'name': 'Василий Гупкин'},\n",
    "    {'type': 'invoice', 'number': '11-2', 'name': 'Геннадий Покемонов'},\n",
    "    {'type': 'insurance', 'number': '10006', 'name': 'Аристарх Павлов'}\n",
    "]\n",
    "```\n",
    "2. перечень полок, на которых хранятся документы (если документ есть в documents, то он обязательно должен быть и в directories)\n",
    "```\n",
    "directories = {\n",
    "    '1': ['2207 876234', '11-2'],\n",
    "    '2': ['10006'],\n",
    "    '3': []\n",
    "}\n",
    "```\n",
    "\n",
    "Общие требования к программе:\n",
    "- код должен быть грамотно декомпозирован (каждая функция отвечает за свою конкретную задачу, дублирующийся функционал переиспользуется, а его код не повторяется);\n",
    "- в коде отсутствуют глобальные переменные (за исключением **documents** и **directories**);\n",
    "- пользовательский ввод обрабатывается в цикле **while** до тех пор, пока пользователь явно не завершит программу (вводом команды \"**q**\")."
   ]
  },
  {
   "cell_type": "code",
   "execution_count": 4,
   "id": "c5be24f4",
   "metadata": {},
   "outputs": [
    {
     "name": "stdout",
     "output_type": "stream",
     "text": [
      "Введите команду: ds\n"
     ]
    }
   ],
   "source": [
    "documents = [\n",
    " {'type': 'passport', 'number': '2207 876234', 'name': 'Василий Гупкин'},\n",
    " {'type': 'invoice', 'number': '11-2', 'name': 'Геннадий Покемонов'},\n",
    " {'type': 'insurance', 'number': '10006', 'name': 'Аристарх Павлов'}\n",
    "]\n",
    "\n",
    "directories = {\n",
    " '1': ['2207 876234', '11-2'],\n",
    " '2': ['10006'],\n",
    " '3': []\n",
    "}\n",
    "\n",
    "vasya = documents[0]['name']\n",
    "gena = documents[1]['name']\n",
    "aristarh = documents[2]['name']\n",
    "\n",
    "\n",
    "def len_(list_):\n",
    "    list_.append(user_input1)\n",
    "    return list_\n",
    "def len__(list_):\n",
    "    try:\n",
    "        list_.remove(user_input1)\n",
    "        return list_\n",
    "    except:\n",
    "        print('такого элемента нет в списке')\n",
    "        return list_\n",
    "\n",
    "\n",
    "user_input1 = ''\n",
    "while user_input1 != 'q':\n",
    "    user_input1 = input('Введите команду: ')\n",
    "    if user_input1 == 'p':  # Первый пункт \n",
    "        user_inputP = input('Введите номер документа: ')\n",
    "        if user_inputP == '2207 876234':\n",
    "            print(f'Владелец документа: {vasya}')\n",
    "        elif user_inputP == '11-2':\n",
    "            print(f'Владелец документа: {gena}')\n",
    "        elif user_inputP == '10006':\n",
    "            print(f'Владелец документа: {aristarh}')\n",
    "        else: print('Документ не найден в базе')\n",
    "    if user_input1 == 's':   # Второй пункт                       \n",
    "        user_inputS = input('Введите номер документа: ')\n",
    "        if user_inputS == '2207 876234':\n",
    "            print('Документ находится на полке: 1')\n",
    "        elif user_inputS == '11-2':\n",
    "            print('Документ находится на полке: 1')\n",
    "        elif user_inputS == '10006':\n",
    "            print('Документ находится на полке: 2')\n",
    "        else: print('Документ не найден в базе')\n",
    "    if user_input1 == 'ads':   # четвертый пункт\n",
    "        list_ = len_(list_)\n",
    "        if user_input1 == 'ds':\n",
    "            list_ = len__(list_)\n",
    "        print(list_)\n",
    "    break\n",
    "        \n",
    "        \n",
    "        \n",
    "        \n",
    "        \n",
    "        \n",
    "        \n",
    "        \n",
    "        \n",
    "  \n",
    "\n",
    "\n",
    "\n",
    "\n",
    "        \n",
    "\n",
    "\n",
    "    \n",
    "     \n",
    "\n",
    "\n",
    "\n",
    "\n",
    "  \n",
    "\n",
    "\n",
    "\n"
   ]
  },
  {
   "cell_type": "code",
   "execution_count": 6,
   "id": "c5ac893f",
   "metadata": {},
   "outputs": [
    {
     "name": "stdout",
     "output_type": "stream",
     "text": [
      "{'type': 'passport', 'number': '2207 876234', 'name': 'Василий Гупкин'}\n"
     ]
    }
   ],
   "source": [
    "documents = [\n",
    " {'type': 'passport', 'number': '2207 876234', 'name': 'Василий Гупкин'},\n",
    " {'type': 'invoice', 'number': '11-2', 'name': 'Геннадий Покемонов'},\n",
    " {'type': 'insurance', 'number': '10006', 'name': 'Аристарх Павлов'}\n",
    "]\n",
    "\n",
    "\n",
    "\n",
    "\n",
    "\n",
    "directories = {\n",
    " '1': ['2207 876234', '11-2'],\n",
    " '2': ['10006'],\n",
    " '3': []\n",
    "}\n",
    "#print(directories['1'][0])\n",
    "    \n",
    "directories['1'][0]\n",
    "#directories['1'][1]\n",
    "#directories['2'][0]\n",
    "\n",
    "\n",
    "p = documents[0]\n",
    "print(p)\n",
    "      \n",
    "    \n",
    "       "
   ]
  },
  {
   "cell_type": "code",
   "execution_count": 4,
   "id": "11a28bc0",
   "metadata": {},
   "outputs": [
    {
     "name": "stdout",
     "output_type": "stream",
     "text": [
      "1,2,3,4,5\n"
     ]
    }
   ],
   "source": [
    "\n",
    "\n"
   ]
  },
  {
   "cell_type": "code",
   "execution_count": null,
   "id": "55c14274",
   "metadata": {},
   "outputs": [],
   "source": []
  }
 ],
 "metadata": {
  "kernelspec": {
   "display_name": "Python 3 (ipykernel)",
   "language": "python",
   "name": "python3"
  },
  "language_info": {
   "codemirror_mode": {
    "name": "ipython",
    "version": 3
   },
   "file_extension": ".py",
   "mimetype": "text/x-python",
   "name": "python",
   "nbconvert_exporter": "python",
   "pygments_lexer": "ipython3",
   "version": "3.9.13"
  }
 },
 "nbformat": 4,
 "nbformat_minor": 5
}
