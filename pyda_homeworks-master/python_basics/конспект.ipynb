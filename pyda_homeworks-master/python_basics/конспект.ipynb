{
 "cells": [
  {
   "cell_type": "markdown",
   "id": "4015e15b",
   "metadata": {},
   "source": [
    "## 6. условный оператор "
   ]
  },
  {
   "cell_type": "code",
   "execution_count": 12,
   "id": "c8757b08",
   "metadata": {},
   "outputs": [
    {
     "name": "stdout",
     "output_type": "stream",
     "text": [
      "20 + 20 = 39\n",
      "false\n"
     ]
    }
   ],
   "source": [
    "ter = int(input('20 + 20 = '))\n",
    "if ter == 40:\n",
    "    print('right')\n",
    "elif ter != 40:\n",
    "        print('false')"
   ]
  },
  {
   "cell_type": "markdown",
   "id": "ec872e23",
   "metadata": {},
   "source": [
    "## 7. циклы\n"
   ]
  },
  {
   "cell_type": "code",
   "execution_count": 4,
   "id": "6110affa",
   "metadata": {},
   "outputs": [
    {
     "name": "stdout",
     "output_type": "stream",
     "text": [
      "Привет мир"
     ]
    }
   ],
   "source": [
    "name = ('Привет мир')\n",
    "for i in name:\n",
    "    print(i,end ='')"
   ]
  },
  {
   "cell_type": "code",
   "execution_count": 1,
   "id": "8ac07057",
   "metadata": {},
   "outputs": [
    {
     "name": "stdout",
     "output_type": "stream",
     "text": [
      "П\n",
      "р\n",
      "и\n",
      "в\n",
      "е\n",
      "т\n",
      " \n",
      "м\n",
      "и\n",
      "р\n"
     ]
    },
    {
     "data": {
      "text/plain": [
       "[None, None, None, None, None, None, None, None, None, None]"
      ]
     },
     "execution_count": 1,
     "metadata": {},
     "output_type": "execute_result"
    }
   ],
   "source": [
    "name = ('Привет мир')\n",
    "[print(i) for i in name]"
   ]
  },
  {
   "cell_type": "code",
   "execution_count": 91,
   "id": "bd968738",
   "metadata": {},
   "outputs": [
    {
     "name": "stdout",
     "output_type": "stream",
     "text": [
      "0\n",
      "0\n",
      "0\n",
      "0\n",
      "0\n",
      "0\n",
      "0\n",
      "0\n",
      "0\n",
      "0\n"
     ]
    }
   ],
   "source": [
    "for name in (range(10)):\n",
    "    print(0)\n",
    "\n"
   ]
  },
  {
   "cell_type": "code",
   "execution_count": 1,
   "id": "38385e24",
   "metadata": {},
   "outputs": [
    {
     "name": "stdout",
     "output_type": "stream",
     "text": [
      "10000\n",
      "5000.0\n",
      "2500.0\n",
      "1250.0\n",
      "625.0\n",
      "312.5\n",
      "156.25\n"
     ]
    }
   ],
   "source": [
    "x = 10000\n",
    "while x > 100:\n",
    "    print(x)\n",
    "    x /= 2\n",
    "    "
   ]
  },
  {
   "cell_type": "code",
   "execution_count": 3,
   "id": "779549a5",
   "metadata": {},
   "outputs": [
    {
     "name": "stdout",
     "output_type": "stream",
     "text": [
      "hheelllloo  wwoorrlldd"
     ]
    }
   ],
   "source": [
    "for i in 'hello world':\n",
    "    print(i * 2, end='')\n"
   ]
  },
  {
   "cell_type": "code",
   "execution_count": null,
   "id": "b8157a1c",
   "metadata": {},
   "outputs": [],
   "source": []
  },
  {
   "cell_type": "code",
   "execution_count": null,
   "id": "f983220b",
   "metadata": {},
   "outputs": [],
   "source": []
  },
  {
   "cell_type": "code",
   "execution_count": null,
   "id": "7e7b69b2",
   "metadata": {},
   "outputs": [],
   "source": []
  },
  {
   "cell_type": "markdown",
   "id": "a84cdf3f",
   "metadata": {},
   "source": [
    "## 8. Ключевые слова. Функции.\n",
    "False - ложь.\n",
    "\n",
    "True - правда.\n",
    "\n",
    "None - \"пустой\" объект.\n",
    "\n",
    "and - логическое И.\n",
    "\n",
    "with / as - менеджер контекста.\n",
    "\n",
    "assert условие - возбуждает исключение, если условие ложно.\n",
    "\n",
    "break - выход из цикла.\n",
    "\n",
    "class - пользовательский тип, состоящий из методов и атрибутов.\n",
    "\n",
    "continue - переход на следующую итерацию цикла.\n",
    "\n",
    "def - определение функции.\n",
    "\n",
    "del - удаление объекта.\n",
    "\n",
    "elif - в противном случае, если.\n",
    "\n",
    "else - см. for/else или if/else.\n",
    "\n",
    "except - перехватить исключение.\n",
    "\n",
    "finally - вкупе с инструкцией try, выполняет инструкции независимо от того, было ли исключение или нет.\n",
    "\n",
    "for - цикл for.\n",
    "\n",
    "from - импорт нескольких функций из модуля.\n",
    "\n",
    "global - позволяет сделать значение переменной, присвоенное ей внутри функции, доступным и за пределами этой функции.\n",
    "\n",
    "if - если.\n",
    "\n",
    "import - импорт модуля.\n",
    "\n",
    "in - проверка на вхождение.\n",
    "\n",
    "is - ссылаются ли 2 объекта на одно и то же место в памяти.\n",
    "\n",
    "lambda - определение анонимной функции.\n",
    "\n",
    "nonlocal - позволяет сделать значение переменной, присвоенное ей внутри функции, доступным в объемлющей инструкции.\n",
    "\n",
    "not - логическое НЕ.\n",
    "\n",
    "or - логическое ИЛИ.\n",
    "\n",
    "pass - ничего не делающая конструкция.\n",
    "\n",
    "raise - возбудить исключение.\n",
    "\n",
    "return - вернуть результат.\n",
    "\n",
    "try - выполнить инструкции, перехватывая исключения.\n",
    "\n",
    "while - цикл while.\n",
    "\n",
    "yield - определение функции-генератора."
   ]
  }
 ],
 "metadata": {
  "kernelspec": {
   "display_name": "Python 3 (ipykernel)",
   "language": "python",
   "name": "python3"
  },
  "language_info": {
   "codemirror_mode": {
    "name": "ipython",
    "version": 3
   },
   "file_extension": ".py",
   "mimetype": "text/x-python",
   "name": "python",
   "nbconvert_exporter": "python",
   "pygments_lexer": "ipython3",
   "version": "3.9.13"
  }
 },
 "nbformat": 4,
 "nbformat_minor": 5
}
