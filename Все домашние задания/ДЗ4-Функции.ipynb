{
 "cells": [
  {
   "cell_type": "markdown",
   "id": "b611005a",
   "metadata": {},
   "source": [
    "## Задание 1\n"
   ]
  },
  {
   "cell_type": "markdown",
   "id": "df04bfbf",
   "metadata": {},
   "source": [
    "Вам нужно помочь секретарю автоматизировать работу. Для этого нужно написать программу, которая будет на основе хранимых данных исполнять пользовательские команды.\n",
    "\n",
    "Исходные данные имеют следующую структуру:\n",
    "\n",
    "1. перечень всех документов\n",
    "```\n",
    "documents = [\n",
    "    {'type': 'passport', 'number': '2207 876234', 'name': 'Василий Гупкин'},\n",
    "    {'type': 'invoice', 'number': '11-2', 'name': 'Геннадий Покемонов'},\n",
    "    {'type': 'insurance', 'number': '10006', 'name': 'Аристарх Павлов'}\n",
    "]\n",
    "```\n",
    "2. перечень полок, на которых хранятся документы (если документ есть в documents, то он обязательно должен быть и в directories)\n",
    "```\n",
    "directories = {\n",
    "    '1': ['2207 876234', '11-2'],\n",
    "    '2': ['10006'],\n",
    "    '3': []\n",
    "}\n",
    "```\n",
    "\n",
    "Общие требования к программе:\n",
    "- код должен быть грамотно декомпозирован (каждая функция отвечает за свою конкретную задачу, дублирующийся функционал переиспользуется, а его код не повторяется);\n",
    "- в коде отсутствуют глобальные переменные (за исключением **documents** и **directories**);\n",
    "- пользовательский ввод обрабатывается в цикле **while** до тех пор, пока пользователь явно не завершит программу (вводом команды \"**q**\")."
   ]
  },
  {
   "cell_type": "code",
   "execution_count": 6,
   "id": "c5be24f4",
   "metadata": {},
   "outputs": [
    {
     "ename": "IndentationError",
     "evalue": "expected an indented block (2998088493.py, line 59)",
     "output_type": "error",
     "traceback": [
      "\u001b[1;36m  File \u001b[1;32m\"C:\\Users\\сергей\\AppData\\Local\\Temp\\ipykernel_2616\\2998088493.py\"\u001b[1;36m, line \u001b[1;32m59\u001b[0m\n\u001b[1;33m    def len__(directories):\u001b[0m\n\u001b[1;37m                           ^\u001b[0m\n\u001b[1;31mIndentationError\u001b[0m\u001b[1;31m:\u001b[0m expected an indented block\n"
     ]
    }
   ],
   "source": [
    "documents = [\n",
    " {'type': 'passport', 'number': '2207 876234', 'name': 'Василий Гупкин'},\n",
    " {'type': 'invoice', 'number': '11-2', 'name': 'Геннадий Покемонов'},\n",
    " {'type': 'insurance', 'number': '10006', 'name': 'Аристарх Павлов'}\n",
    "]\n",
    "\n",
    "directories = {\n",
    " '1': ['2207 876234', '11-2'],\n",
    " '2': ['10006'],\n",
    " '3': []\n",
    "}\n",
    "\n",
    "l = str(directories.keys())[11:-2].replace(\"'\", '')\n",
    "user_input1 = ''\n",
    "\n",
    "def p_(directories):\n",
    "        user_inputP = input('Введите номер документа: ')\n",
    "        n = None\n",
    "        for element in documents:\n",
    "            if element['number'] == user_inputP:\n",
    "                n = element['name']\n",
    "                print(f'Владелец документа: {n}')\n",
    "        if n == None:\n",
    "            print('Пользователя нет')\n",
    "\n",
    "\n",
    "def s_(directories):\n",
    "        element = None\n",
    "        user_input = input('Введите номер документа: ')\n",
    "        for element in directories.values():\n",
    "            if user_input in element:\n",
    "                print(f'Ваш документ хранится на полке:123 ')\n",
    "                break\n",
    "        if user_input not in element:\n",
    "            key = user_inputADS\n",
    "            directories.update({key: value})\n",
    "            print(directories)\n",
    "\n",
    "            \n",
    "def l_():\n",
    "        print('№: 2207 876234, тип: passport, владелец: Василий Гупкин, полка хранения: 1')\n",
    "        print('№: 11-2, тип: invoice, владелец: Геннадий Покемонов, полка хранения: 1')\n",
    "        print('№: 10006, тип: insurance, владелец: Аристарх Павлов, полка хранения: 2')\n",
    "                \n",
    "\n",
    "def len_(directories):\n",
    "        if user_inputADS in directories.keys():\n",
    "            l = str(directories.keys())[11:-2].replace(\"'\", '')\n",
    "            print(f'Полка уже существует. Текущий перчень полок: {l}.')\n",
    "        if user_inputADS not in directories.keys():\n",
    "            key, value = user_inputADS, None\n",
    "            directories.update({key:value})\n",
    "            l = str(directories.keys())[11:-2].replace(\"'\", '')\n",
    "            print(f'Полка добавлена. Текущий перчень полок: {l}.')\n",
    "        if user_inputDS  in directories.keys():\n",
    "        \n",
    "            \n",
    "\n",
    "def len__(directories):\n",
    "        if user_inputDS  in directories.keys():\n",
    "            key, value = user_inputDS, None\n",
    "            directories.pop(key)\n",
    "            l = str(directories.keys())[11:-2].replace(\"'\", '')\n",
    "            print(f'Полка удалена. Текущий перечень полок: {l}.')\n",
    "        elif user_inputDS not in directories.keys():\n",
    "            l = str(directories.keys())[11:-2].replace(\"'\", '')\n",
    "            print(f'Полки не сущетствует. Текущий перечень полок: {l}.')\n",
    "       \n",
    "        \n",
    "            \n",
    "        \n",
    "        \n",
    "            \n",
    "\n",
    "\n",
    "while user_input1 != 'q':\n",
    "    user_input1 = input('Введите команду: ')\n",
    "    if user_input1 == 'p':  \n",
    "        p(documents)\n",
    "    if user_input1 == 's':                          \n",
    "        s(directories)\n",
    "    if user_input1 == 'ads':\n",
    "        user_inputADS = input('Введите номер полки: ')\n",
    "        len_(directories)\n",
    "    if user_input1 == 'ds':\n",
    "        user_inputDS = input('Введите номер полки: ')\n",
    "        len__(directories)\n",
    "    if user_input1 == 'l':\n",
    "        l_()\n",
    "       \n",
    "\n",
    "        break\n",
    "        \n",
    "        \n",
    "        \n",
    "        \n",
    "        \n",
    "        \n",
    "        \n",
    "        \n",
    "        \n",
    "  \n",
    "\n",
    "\n",
    "\n",
    "\n",
    "        \n",
    "\n",
    "\n",
    "    \n",
    "     \n",
    "\n",
    "\n",
    "\n",
    "\n",
    "  \n",
    "\n",
    "\n",
    "\n"
   ]
  },
  {
   "cell_type": "code",
   "execution_count": null,
   "id": "a163905b",
   "metadata": {},
   "outputs": [],
   "source": []
  },
  {
   "cell_type": "code",
   "execution_count": 5,
   "id": "c5ac893f",
   "metadata": {},
   "outputs": [
    {
     "name": "stdout",
     "output_type": "stream",
     "text": [
      "[]\n"
     ]
    }
   ],
   "source": [
    "documents = [\n",
    " {'type': 'passport', 'number': '2207 876234', 'name': 'Василий Гупкин'},\n",
    " {'type': 'invoice', 'number': '11-2', 'name': 'Геннадий Покемонов'},\n",
    " {'type': 'insurance', 'number': '10006', 'name': 'Аристарх Павлов'}\n",
    "]\n",
    "\n",
    "\n",
    "\n",
    "\n",
    "\n",
    "directories = {\n",
    " '1': ['2207 876234', '11-2'],\n",
    " '2': ['10006'],\n",
    " '3': []\n",
    "}\n",
    "#print(directories['1'][0])\n",
    "    \n",
    "directories['1'][0]\n",
    "#directories['1'][1]\n",
    "#directories['2'][0]\n",
    "\n",
    "\n",
    "p = directories['3']\n",
    "print(p)\n",
    "      \n",
    "    \n",
    "       "
   ]
  },
  {
   "cell_type": "code",
   "execution_count": 4,
   "id": "11a28bc0",
   "metadata": {},
   "outputs": [
    {
     "name": "stdout",
     "output_type": "stream",
     "text": [
      "1,2,3,4,5\n"
     ]
    }
   ],
   "source": [
    "\n",
    "\n"
   ]
  },
  {
   "cell_type": "code",
   "execution_count": 6,
   "id": "55c14274",
   "metadata": {},
   "outputs": [
    {
     "name": "stdout",
     "output_type": "stream",
     "text": [
      "8890\n"
     ]
    }
   ],
   "source": [
    "directories = {\n",
    " '1': ['2207 876234', '11-2'],\n",
    " '2': ['10006'],\n",
    " '3': [] }\n",
    "user_input = input()\n",
    "for element in directories.values():\n",
    "\n",
    "        \n",
    "       \n",
    "    \n",
    "\n",
    "\n"
   ]
  },
  {
   "cell_type": "code",
   "execution_count": 38,
   "id": "702ecb12",
   "metadata": {},
   "outputs": [
    {
     "ename": "IndentationError",
     "evalue": "unexpected indent (2791068247.py, line 6)",
     "output_type": "error",
     "traceback": [
      "\u001b[1;36m  File \u001b[1;32m\"C:\\Users\\сергей\\AppData\\Local\\Temp\\ipykernel_7192\\2791068247.py\"\u001b[1;36m, line \u001b[1;32m6\u001b[0m\n\u001b[1;33m    0 in values\u001b[0m\n\u001b[1;37m    ^\u001b[0m\n\u001b[1;31mIndentationError\u001b[0m\u001b[1;31m:\u001b[0m unexpected indent\n"
     ]
    }
   ],
   "source": [
    "directories = {\n",
    " '1': ['2207 876234', '11-2'],\n",
    " '2': ['10006'],\n",
    " '3': []\n",
    "}\n",
    "for element in directories:\n",
    "    if element == directories:\n",
    "        print(element)\n"
   ]
  },
  {
   "cell_type": "code",
   "execution_count": 6,
   "id": "ccb76ddd",
   "metadata": {},
   "outputs": [
    {
     "name": "stdout",
     "output_type": "stream",
     "text": [
      "Введите номер документа: 10006\n",
      "Документа нет в базе\n",
      "Ваш документ хранится на полке dict_keys(['1', '2', '3'])\n"
     ]
    }
   ],
   "source": [
    "directories = directories = {\n",
    " '1': ['2207 876234', '11-2'],\n",
    " '2': ['10006'],\n",
    " '3': [] }\n",
    "element = None\n",
    "user_input = input('Введите номер документа: ')\n",
    "for element in directories.values():\n",
    "    if user_input in element:\n",
    "        if user_input() in directories\n",
    "        print(f'Ваш документ хранится на полке {directories.keys()}')\n",
    "        break\n",
    "    if user_input not in element:\n",
    "        print('Документа нет в базе')\n",
    "         \n"
   ]
  },
  {
   "cell_type": "code",
   "execution_count": 11,
   "id": "58fccfc4",
   "metadata": {},
   "outputs": [
    {
     "ename": "AttributeError",
     "evalue": "'str' object has no attribute 'keys'",
     "output_type": "error",
     "traceback": [
      "\u001b[1;31m---------------------------------------------------------------------------\u001b[0m",
      "\u001b[1;31mAttributeError\u001b[0m                            Traceback (most recent call last)",
      "\u001b[1;32m~\\AppData\\Local\\Temp\\ipykernel_13984\\354415091.py\u001b[0m in \u001b[0;36m<module>\u001b[1;34m\u001b[0m\n\u001b[0;32m      5\u001b[0m \u001b[0mvalues\u001b[0m \u001b[1;33m=\u001b[0m \u001b[0mdirectories\u001b[0m\u001b[1;33m.\u001b[0m\u001b[0mkeys\u001b[0m\u001b[1;33m(\u001b[0m\u001b[1;33m)\u001b[0m\u001b[1;33m\u001b[0m\u001b[1;33m\u001b[0m\u001b[0m\n\u001b[0;32m      6\u001b[0m \u001b[1;32mfor\u001b[0m \u001b[0mvalues\u001b[0m \u001b[1;32min\u001b[0m \u001b[0mdirectories\u001b[0m\u001b[1;33m.\u001b[0m\u001b[0mkeys\u001b[0m\u001b[1;33m(\u001b[0m\u001b[1;33m)\u001b[0m\u001b[1;33m:\u001b[0m\u001b[1;33m\u001b[0m\u001b[1;33m\u001b[0m\u001b[0m\n\u001b[1;32m----> 7\u001b[1;33m     \u001b[0mprint\u001b[0m\u001b[1;33m(\u001b[0m\u001b[0mvalues\u001b[0m\u001b[1;33m.\u001b[0m\u001b[0mkeys\u001b[0m\u001b[1;33m(\u001b[0m\u001b[1;33m)\u001b[0m\u001b[1;33m)\u001b[0m\u001b[1;33m\u001b[0m\u001b[1;33m\u001b[0m\u001b[0m\n\u001b[0m",
      "\u001b[1;31mAttributeError\u001b[0m: 'str' object has no attribute 'keys'"
     ]
    }
   ],
   "source": [
    "directories = directories = {\n",
    " '1': ['2207 876234', '11-2'],\n",
    " '2': ['10006'],\n",
    " '3': [] }\n",
    "values = directories.keys()\n",
    "for values in directories.keys():\n",
    "    "
   ]
  },
  {
   "cell_type": "code",
   "execution_count": 13,
   "id": "d7dc7026",
   "metadata": {},
   "outputs": [
    {
     "name": "stdout",
     "output_type": "stream",
     "text": [
      "Введите номер документа: 4\n",
      "dict_keys(['1', '2', '3', '5'])\n"
     ]
    },
    {
     "ename": "RuntimeError",
     "evalue": "dictionary changed size during iteration",
     "output_type": "error",
     "traceback": [
      "\u001b[1;31m---------------------------------------------------------------------------\u001b[0m",
      "\u001b[1;31mRuntimeError\u001b[0m                              Traceback (most recent call last)",
      "\u001b[1;32m~\\AppData\\Local\\Temp\\ipykernel_5816\\3595249830.py\u001b[0m in \u001b[0;36m<module>\u001b[1;34m\u001b[0m\n\u001b[0;32m      1\u001b[0m \u001b[0melement\u001b[0m \u001b[1;33m=\u001b[0m \u001b[1;32mNone\u001b[0m\u001b[1;33m\u001b[0m\u001b[1;33m\u001b[0m\u001b[0m\n\u001b[0;32m      2\u001b[0m \u001b[0muser_input\u001b[0m \u001b[1;33m=\u001b[0m \u001b[0minput\u001b[0m\u001b[1;33m(\u001b[0m\u001b[1;34m'Введите номер документа: '\u001b[0m\u001b[1;33m)\u001b[0m\u001b[1;33m\u001b[0m\u001b[1;33m\u001b[0m\u001b[0m\n\u001b[1;32m----> 3\u001b[1;33m \u001b[1;32mfor\u001b[0m \u001b[0melement\u001b[0m \u001b[1;32min\u001b[0m \u001b[0mdirectories\u001b[0m\u001b[1;33m.\u001b[0m\u001b[0mvalues\u001b[0m\u001b[1;33m(\u001b[0m\u001b[1;33m)\u001b[0m\u001b[1;33m:\u001b[0m\u001b[1;33m\u001b[0m\u001b[1;33m\u001b[0m\u001b[0m\n\u001b[0m\u001b[0;32m      4\u001b[0m     \u001b[1;32mif\u001b[0m \u001b[0muser_input\u001b[0m \u001b[1;32min\u001b[0m \u001b[0melement\u001b[0m\u001b[1;33m:\u001b[0m\u001b[1;33m\u001b[0m\u001b[1;33m\u001b[0m\u001b[0m\n\u001b[0;32m      5\u001b[0m         \u001b[0mprint\u001b[0m\u001b[1;33m(\u001b[0m\u001b[1;34mf'Ваш документ хранится на полке:123 '\u001b[0m\u001b[1;33m)\u001b[0m\u001b[1;33m\u001b[0m\u001b[1;33m\u001b[0m\u001b[0m\n",
      "\u001b[1;31mRuntimeError\u001b[0m: dictionary changed size during iteration"
     ]
    }
   ],
   "source": [
    "element = None\n",
    "user_input = input('Введите номер документа: ')\n",
    "for element in directories.values():\n",
    "    if user_input in element:\n",
    "        print(f'Ваш документ хранится на полке:123 ')\n",
    "        break\n",
    "    if user_input not in element:\n",
    "        key, value = user_inputADS, ' '\n",
    "        directories.update({key:value})\n",
    "        print(directories.keys())"
   ]
  },
  {
   "cell_type": "code",
   "execution_count": 16,
   "id": "57e9de04",
   "metadata": {},
   "outputs": [
    {
     "name": "stdout",
     "output_type": "stream",
     "text": [
      "1, 2, 3\n"
     ]
    }
   ],
   "source": [
    "directories = directories = {\n",
    " '1': ['2207 876234', '11-2'],\n",
    " '2': ['10006'],\n",
    " '3': [] }\n",
    "l = str(directories.keys())[11:-2].replace(\"'\", '')\n",
    "print(l) "
   ]
  },
  {
   "cell_type": "code",
   "execution_count": 15,
   "id": "1e5e5fb7",
   "metadata": {},
   "outputs": [
    {
     "name": "stdout",
     "output_type": "stream",
     "text": [
      "['1', '2', '3']\n"
     ]
    }
   ],
   "source": [
    "directories = directories = {\n",
    " '1': ['2207 876234', '11-2'],\n",
    " '2': ['10006'],\n",
    " '3': [] }\n",
    "l = list(directories.keys())\n",
    "print(l) "
   ]
  },
  {
   "cell_type": "code",
   "execution_count": null,
   "id": "da1d776f",
   "metadata": {},
   "outputs": [],
   "source": []
  }
 ],
 "metadata": {
  "kernelspec": {
   "display_name": "Python 3 (ipykernel)",
   "language": "python",
   "name": "python3"
  },
  "language_info": {
   "codemirror_mode": {
    "name": "ipython",
    "version": 3
   },
   "file_extension": ".py",
   "mimetype": "text/x-python",
   "name": "python",
   "nbconvert_exporter": "python",
   "pygments_lexer": "ipython3",
   "version": "3.9.13"
  }
 },
 "nbformat": 4,
 "nbformat_minor": 5
}
